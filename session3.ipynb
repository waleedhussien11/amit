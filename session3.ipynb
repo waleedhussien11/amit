{
 "cells": [
  {
   "cell_type": "markdown",
   "metadata": {},
   "source": [
    "# Assignment 2\n",
    "Let's test your knowledge!"
   ]
  },
  {
   "cell_type": "markdown",
   "metadata": {},
   "source": [
    "_____\n",
    "**Use <code>for</code>, .split(), and <code>if</code> to create a Statement that will print out words that start with 's':**"
   ]
  },
  {
   "cell_type": "code",
   "execution_count": 10,
   "metadata": {},
   "outputs": [],
   "source": [
    "st = 'Print only the words that start with s in this sentence'"
   ]
  },
  {
   "cell_type": "code",
   "execution_count": null,
   "metadata": {},
   "outputs": [],
   "source": [
    "#Code here\n",
    "user_manual = input(\"please enter the word \" ) \n",
    "\n",
    "string= user_manual.split() \n",
    "\n",
    "for i in range (0,len(string),1) : \n",
    "    if string[i][0].upper()=='S': \n",
    "        print(string[i]) "
   ]
  },
  {
   "cell_type": "markdown",
   "metadata": {},
   "source": [
    "______\n",
    "**Use range() to print all the even numbers from 0 to 10.**"
   ]
  },
  {
   "cell_type": "code",
   "execution_count": 2,
   "metadata": {},
   "outputs": [
    {
     "name": "stdout",
     "output_type": "stream",
     "text": [
      "0\n",
      "2\n",
      "4\n",
      "6\n",
      "8\n",
      "10\n"
     ]
    }
   ],
   "source": [
    " \n",
    "    for i in range (0,11,2): \n",
    "        print(i)"
   ]
  },
  {
   "cell_type": "markdown",
   "metadata": {},
   "source": [
    "___\n",
    "**Use a List Comprehension to create a list of all numbers between 1 and 50 that are divisible by 3.**"
   ]
  },
  {
   "cell_type": "code",
   "execution_count": 6,
   "metadata": {},
   "outputs": [
    {
     "name": "stdout",
     "output_type": "stream",
     "text": [
      "0\n",
      "3\n",
      "6\n",
      "9\n",
      "12\n",
      "15\n",
      "18\n",
      "21\n",
      "24\n",
      "27\n",
      "30\n",
      "33\n",
      "36\n",
      "39\n",
      "42\n",
      "45\n",
      "48\n",
      "0\n",
      "3\n",
      "6\n",
      "9\n",
      "12\n",
      "15\n",
      "18\n",
      "21\n",
      "24\n",
      "27\n",
      "30\n",
      "33\n",
      "36\n",
      "39\n",
      "42\n",
      "45\n",
      "48\n"
     ]
    }
   ],
   "source": [
    "#Code Here\n",
    "for i in range (0,51,3) :\n",
    "    print(i)\n",
    "#or by if statment inside for loop \n",
    "for y in range (0,51) : \n",
    "    if (y%3==0): \n",
    "        print(y) "
   ]
  },
  {
   "cell_type": "markdown",
   "metadata": {},
   "source": [
    "_____\n",
    "**Go through the string below and if the length of a word is even print \"even!\"**"
   ]
  },
  {
   "cell_type": "code",
   "execution_count": 8,
   "metadata": {},
   "outputs": [],
   "source": [
    "st = 'Print every word in this sentence that has an even number of letters'"
   ]
  },
  {
   "cell_type": "code",
   "execution_count": 9,
   "metadata": {},
   "outputs": [
    {
     "name": "stdout",
     "output_type": "stream",
     "text": [
      "even\n"
     ]
    }
   ],
   "source": [
    "#Code in this cell\n",
    "if len(st)%2 == 0 : \n",
    "    print (\"even\") "
   ]
  },
  {
   "cell_type": "markdown",
   "metadata": {},
   "source": [
    "____\n",
    "**Write a program that prints the integers from 1 to 100. But for multiples of three print \"Fizz\" instead of the number, and for the multiples of five print \"Buzz\". For numbers which are multiples of both three and five print \"FizzBuzz\".**"
   ]
  },
  {
   "cell_type": "code",
   "execution_count": 13,
   "metadata": {},
   "outputs": [
    {
     "name": "stdout",
     "output_type": "stream",
     "text": [
      "0 FizzBuzz\n",
      "1 nether Fizz nor Buzz\n",
      "2 nether Fizz nor Buzz\n",
      "3 Fizz\n",
      "4 nether Fizz nor Buzz\n",
      "5 Buzz\n",
      "6 Fizz\n",
      "7 nether Fizz nor Buzz\n",
      "8 nether Fizz nor Buzz\n",
      "9 Fizz\n",
      "10 Buzz\n",
      "11 nether Fizz nor Buzz\n",
      "12 Fizz\n",
      "13 nether Fizz nor Buzz\n",
      "14 nether Fizz nor Buzz\n",
      "15 FizzBuzz\n",
      "16 nether Fizz nor Buzz\n",
      "17 nether Fizz nor Buzz\n",
      "18 Fizz\n",
      "19 nether Fizz nor Buzz\n",
      "20 Buzz\n",
      "21 Fizz\n",
      "22 nether Fizz nor Buzz\n",
      "23 nether Fizz nor Buzz\n",
      "24 Fizz\n",
      "25 Buzz\n",
      "26 nether Fizz nor Buzz\n",
      "27 Fizz\n",
      "28 nether Fizz nor Buzz\n",
      "29 nether Fizz nor Buzz\n",
      "30 FizzBuzz\n",
      "31 nether Fizz nor Buzz\n",
      "32 nether Fizz nor Buzz\n",
      "33 Fizz\n",
      "34 nether Fizz nor Buzz\n",
      "35 Buzz\n",
      "36 Fizz\n",
      "37 nether Fizz nor Buzz\n",
      "38 nether Fizz nor Buzz\n",
      "39 Fizz\n",
      "40 Buzz\n",
      "41 nether Fizz nor Buzz\n",
      "42 Fizz\n",
      "43 nether Fizz nor Buzz\n",
      "44 nether Fizz nor Buzz\n",
      "45 FizzBuzz\n",
      "46 nether Fizz nor Buzz\n",
      "47 nether Fizz nor Buzz\n",
      "48 Fizz\n",
      "49 nether Fizz nor Buzz\n",
      "50 Buzz\n",
      "51 Fizz\n",
      "52 nether Fizz nor Buzz\n",
      "53 nether Fizz nor Buzz\n",
      "54 Fizz\n",
      "55 Buzz\n",
      "56 nether Fizz nor Buzz\n",
      "57 Fizz\n",
      "58 nether Fizz nor Buzz\n",
      "59 nether Fizz nor Buzz\n",
      "60 FizzBuzz\n",
      "61 nether Fizz nor Buzz\n",
      "62 nether Fizz nor Buzz\n",
      "63 Fizz\n",
      "64 nether Fizz nor Buzz\n",
      "65 Buzz\n",
      "66 Fizz\n",
      "67 nether Fizz nor Buzz\n",
      "68 nether Fizz nor Buzz\n",
      "69 Fizz\n",
      "70 Buzz\n",
      "71 nether Fizz nor Buzz\n",
      "72 Fizz\n",
      "73 nether Fizz nor Buzz\n",
      "74 nether Fizz nor Buzz\n",
      "75 FizzBuzz\n",
      "76 nether Fizz nor Buzz\n",
      "77 nether Fizz nor Buzz\n",
      "78 Fizz\n",
      "79 nether Fizz nor Buzz\n",
      "80 Buzz\n",
      "81 Fizz\n",
      "82 nether Fizz nor Buzz\n",
      "83 nether Fizz nor Buzz\n",
      "84 Fizz\n",
      "85 Buzz\n",
      "86 nether Fizz nor Buzz\n",
      "87 Fizz\n",
      "88 nether Fizz nor Buzz\n",
      "89 nether Fizz nor Buzz\n",
      "90 FizzBuzz\n",
      "91 nether Fizz nor Buzz\n",
      "92 nether Fizz nor Buzz\n",
      "93 Fizz\n",
      "94 nether Fizz nor Buzz\n",
      "95 Buzz\n",
      "96 Fizz\n",
      "97 nether Fizz nor Buzz\n",
      "98 nether Fizz nor Buzz\n",
      "99 Fizz\n",
      "100 Buzz\n"
     ]
    }
   ],
   "source": [
    "\n",
    "\n",
    "#Code in this cell\n",
    "for m in range(0,101,1): \n",
    "        if m%5==0 and m%3==0 :\n",
    "            print((m),\"FizzBuzz\")\n",
    "        elif m%5==0 : \n",
    "            print((m),\"Buzz\")\n",
    "        elif  m%3==0 :\n",
    "            print((m),\"Fizz\")\n",
    "        else: \n",
    "            print((m), \"nether Fizz nor Buzz\" )"
   ]
  },
  {
   "cell_type": "markdown",
   "metadata": {},
   "source": [
    "____\n",
    "**Use List Comprehension to create a list of the first letters of every word in the string below:**"
   ]
  },
  {
   "cell_type": "code",
   "execution_count": 2,
   "metadata": {},
   "outputs": [],
   "source": [
    "st = 'Create a list of the first letters of every word in this string'\n"
   ]
  },
  {
   "cell_type": "code",
   "execution_count": 9,
   "metadata": {},
   "outputs": [
    {
     "name": "stdout",
     "output_type": "stream",
     "text": [
      "['C', 'a', 'l', 'o', 't', 'f', 'l', 'o', 'e', 'w', 'i', 't', 's']\n"
     ]
    }
   ],
   "source": [
    "str1= st.split() \n",
    "firstlett = []\n",
    "for letter in str1: \n",
    "    firstlett.append(letter[0])\n",
    "    \n",
    "print(firstlett) "
   ]
  },
  {
   "cell_type": "markdown",
   "metadata": {},
   "source": [
    "### Great Job!"
   ]
  }
 ],
 "metadata": {
  "kernelspec": {
   "display_name": "Python 3 (ipykernel)",
   "language": "python",
   "name": "python3"
  },
  "language_info": {
   "codemirror_mode": {
    "name": "ipython",
    "version": 3
   },
   "file_extension": ".py",
   "mimetype": "text/x-python",
   "name": "python",
   "nbconvert_exporter": "python",
   "pygments_lexer": "ipython3",
   "version": "3.9.13"
  }
 },
 "nbformat": 4,
 "nbformat_minor": 4
}
